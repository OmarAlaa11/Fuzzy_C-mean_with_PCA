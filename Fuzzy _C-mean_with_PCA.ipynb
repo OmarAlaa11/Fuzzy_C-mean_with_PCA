{
  "cells": [
    {
      "cell_type": "markdown",
      "source": [
        "## Principal Component Analysis - Congress Dataset"
      ],
      "metadata": {
        "id": "QbxkY9N_lVFy"
      },
      "id": "QbxkY9N_lVFy"
    },
    {
      "cell_type": "code",
      "execution_count": null,
      "metadata": {
        "id": "0ZmhbdSEnvaH"
      },
      "outputs": [],
      "source": [
        "import pandas as pd\n",
        "import numpy as np\n",
        "from fcmeans import FCM\n",
        "from sklearn.model_selection import train_test_split\n",
        "import seaborn as sns\n",
        "import matplotlib.pyplot as plt\n",
        "from sklearn.metrics import adjusted_rand_score\n",
        "import warnings"
      ],
      "id": "0ZmhbdSEnvaH"
    },
    {
      "cell_type": "code",
      "execution_count": null,
      "metadata": {
        "colab": {
          "base_uri": "https://localhost:8080/",
          "height": 423
        },
        "id": "5dFE-Xg8nvaJ",
        "outputId": "e9d94454-8c43-4158-fee7-f58eb825f607"
      },
      "outputs": [
        {
          "output_type": "execute_result",
          "data": {
            "text/plain": [
              "          name party state  vote1  vote2  vote3  vote4  vote5  vote6  vote7  \\\n",
              "0    Alexander     R    TN    0.0    1.0    1.0    1.0    1.0    0.0    0.0   \n",
              "1       Ayotte     R    NH    0.0    1.0    1.0    1.0    1.0    0.0    0.0   \n",
              "2      Baldwin     D    WI    1.0    0.0    0.0    1.0    0.0    1.0    0.0   \n",
              "3     Barrasso     R    WY    0.0    1.0    1.0    1.0    1.0    0.0    1.0   \n",
              "4       Bennet     D    CO    0.0    0.0    0.0    1.0    0.0    1.0    0.0   \n",
              "..         ...   ...   ...    ...    ...    ...    ...    ...    ...    ...   \n",
              "95      Warner     D    VA    1.0    1.0    0.0    1.0    0.0    1.0    0.0   \n",
              "96      Warren     D    MA    1.0    0.0    0.0    1.0    0.0    1.0    0.0   \n",
              "97  Whitehouse     D    RI    1.0    0.0    0.0    1.0    0.0    1.0    0.0   \n",
              "98      Wicker     R    MS    0.0    1.0    1.0    1.0    1.0    0.0    1.0   \n",
              "99       Wyden     D    OR    1.0    0.0    0.0    1.0    0.0    1.0    0.0   \n",
              "\n",
              "    vote8  vote9  vote10  vote11  vote12  vote13  vote14  vote15  \n",
              "0     1.0    1.0     1.0     0.0     0.0     0.0     0.0     0.0  \n",
              "1     1.0    0.0     1.0     0.0     1.0     0.0     1.0     0.0  \n",
              "2     1.0    0.0     0.0     1.0     1.0     0.0     1.0     1.0  \n",
              "3     1.0    1.0     1.0     0.0     0.0     1.0     0.0     0.0  \n",
              "4     1.0    0.0     0.0     0.0     1.0     0.0     1.0     0.0  \n",
              "..    ...    ...     ...     ...     ...     ...     ...     ...  \n",
              "95    1.0    0.0     0.0     1.0     1.0     0.0     1.0     0.0  \n",
              "96    1.0    0.0     0.0     1.0     1.0     0.0     1.0     1.0  \n",
              "97    1.0    0.0     0.0     1.0     1.0     0.0     1.0     1.0  \n",
              "98    0.0    1.0     1.0     0.0     0.0     1.0     0.0     0.0  \n",
              "99    1.0    0.0     0.0     1.0     1.0     0.0     1.0     1.0  \n",
              "\n",
              "[100 rows x 18 columns]"
            ],
            "text/html": [
              "\n",
              "  <div id=\"df-59831897-bb0c-43a2-866f-c399a2e341bd\" class=\"colab-df-container\">\n",
              "    <div>\n",
              "<style scoped>\n",
              "    .dataframe tbody tr th:only-of-type {\n",
              "        vertical-align: middle;\n",
              "    }\n",
              "\n",
              "    .dataframe tbody tr th {\n",
              "        vertical-align: top;\n",
              "    }\n",
              "\n",
              "    .dataframe thead th {\n",
              "        text-align: right;\n",
              "    }\n",
              "</style>\n",
              "<table border=\"1\" class=\"dataframe\">\n",
              "  <thead>\n",
              "    <tr style=\"text-align: right;\">\n",
              "      <th></th>\n",
              "      <th>name</th>\n",
              "      <th>party</th>\n",
              "      <th>state</th>\n",
              "      <th>vote1</th>\n",
              "      <th>vote2</th>\n",
              "      <th>vote3</th>\n",
              "      <th>vote4</th>\n",
              "      <th>vote5</th>\n",
              "      <th>vote6</th>\n",
              "      <th>vote7</th>\n",
              "      <th>vote8</th>\n",
              "      <th>vote9</th>\n",
              "      <th>vote10</th>\n",
              "      <th>vote11</th>\n",
              "      <th>vote12</th>\n",
              "      <th>vote13</th>\n",
              "      <th>vote14</th>\n",
              "      <th>vote15</th>\n",
              "    </tr>\n",
              "  </thead>\n",
              "  <tbody>\n",
              "    <tr>\n",
              "      <th>0</th>\n",
              "      <td>Alexander</td>\n",
              "      <td>R</td>\n",
              "      <td>TN</td>\n",
              "      <td>0.0</td>\n",
              "      <td>1.0</td>\n",
              "      <td>1.0</td>\n",
              "      <td>1.0</td>\n",
              "      <td>1.0</td>\n",
              "      <td>0.0</td>\n",
              "      <td>0.0</td>\n",
              "      <td>1.0</td>\n",
              "      <td>1.0</td>\n",
              "      <td>1.0</td>\n",
              "      <td>0.0</td>\n",
              "      <td>0.0</td>\n",
              "      <td>0.0</td>\n",
              "      <td>0.0</td>\n",
              "      <td>0.0</td>\n",
              "    </tr>\n",
              "    <tr>\n",
              "      <th>1</th>\n",
              "      <td>Ayotte</td>\n",
              "      <td>R</td>\n",
              "      <td>NH</td>\n",
              "      <td>0.0</td>\n",
              "      <td>1.0</td>\n",
              "      <td>1.0</td>\n",
              "      <td>1.0</td>\n",
              "      <td>1.0</td>\n",
              "      <td>0.0</td>\n",
              "      <td>0.0</td>\n",
              "      <td>1.0</td>\n",
              "      <td>0.0</td>\n",
              "      <td>1.0</td>\n",
              "      <td>0.0</td>\n",
              "      <td>1.0</td>\n",
              "      <td>0.0</td>\n",
              "      <td>1.0</td>\n",
              "      <td>0.0</td>\n",
              "    </tr>\n",
              "    <tr>\n",
              "      <th>2</th>\n",
              "      <td>Baldwin</td>\n",
              "      <td>D</td>\n",
              "      <td>WI</td>\n",
              "      <td>1.0</td>\n",
              "      <td>0.0</td>\n",
              "      <td>0.0</td>\n",
              "      <td>1.0</td>\n",
              "      <td>0.0</td>\n",
              "      <td>1.0</td>\n",
              "      <td>0.0</td>\n",
              "      <td>1.0</td>\n",
              "      <td>0.0</td>\n",
              "      <td>0.0</td>\n",
              "      <td>1.0</td>\n",
              "      <td>1.0</td>\n",
              "      <td>0.0</td>\n",
              "      <td>1.0</td>\n",
              "      <td>1.0</td>\n",
              "    </tr>\n",
              "    <tr>\n",
              "      <th>3</th>\n",
              "      <td>Barrasso</td>\n",
              "      <td>R</td>\n",
              "      <td>WY</td>\n",
              "      <td>0.0</td>\n",
              "      <td>1.0</td>\n",
              "      <td>1.0</td>\n",
              "      <td>1.0</td>\n",
              "      <td>1.0</td>\n",
              "      <td>0.0</td>\n",
              "      <td>1.0</td>\n",
              "      <td>1.0</td>\n",
              "      <td>1.0</td>\n",
              "      <td>1.0</td>\n",
              "      <td>0.0</td>\n",
              "      <td>0.0</td>\n",
              "      <td>1.0</td>\n",
              "      <td>0.0</td>\n",
              "      <td>0.0</td>\n",
              "    </tr>\n",
              "    <tr>\n",
              "      <th>4</th>\n",
              "      <td>Bennet</td>\n",
              "      <td>D</td>\n",
              "      <td>CO</td>\n",
              "      <td>0.0</td>\n",
              "      <td>0.0</td>\n",
              "      <td>0.0</td>\n",
              "      <td>1.0</td>\n",
              "      <td>0.0</td>\n",
              "      <td>1.0</td>\n",
              "      <td>0.0</td>\n",
              "      <td>1.0</td>\n",
              "      <td>0.0</td>\n",
              "      <td>0.0</td>\n",
              "      <td>0.0</td>\n",
              "      <td>1.0</td>\n",
              "      <td>0.0</td>\n",
              "      <td>1.0</td>\n",
              "      <td>0.0</td>\n",
              "    </tr>\n",
              "    <tr>\n",
              "      <th>...</th>\n",
              "      <td>...</td>\n",
              "      <td>...</td>\n",
              "      <td>...</td>\n",
              "      <td>...</td>\n",
              "      <td>...</td>\n",
              "      <td>...</td>\n",
              "      <td>...</td>\n",
              "      <td>...</td>\n",
              "      <td>...</td>\n",
              "      <td>...</td>\n",
              "      <td>...</td>\n",
              "      <td>...</td>\n",
              "      <td>...</td>\n",
              "      <td>...</td>\n",
              "      <td>...</td>\n",
              "      <td>...</td>\n",
              "      <td>...</td>\n",
              "      <td>...</td>\n",
              "    </tr>\n",
              "    <tr>\n",
              "      <th>95</th>\n",
              "      <td>Warner</td>\n",
              "      <td>D</td>\n",
              "      <td>VA</td>\n",
              "      <td>1.0</td>\n",
              "      <td>1.0</td>\n",
              "      <td>0.0</td>\n",
              "      <td>1.0</td>\n",
              "      <td>0.0</td>\n",
              "      <td>1.0</td>\n",
              "      <td>0.0</td>\n",
              "      <td>1.0</td>\n",
              "      <td>0.0</td>\n",
              "      <td>0.0</td>\n",
              "      <td>1.0</td>\n",
              "      <td>1.0</td>\n",
              "      <td>0.0</td>\n",
              "      <td>1.0</td>\n",
              "      <td>0.0</td>\n",
              "    </tr>\n",
              "    <tr>\n",
              "      <th>96</th>\n",
              "      <td>Warren</td>\n",
              "      <td>D</td>\n",
              "      <td>MA</td>\n",
              "      <td>1.0</td>\n",
              "      <td>0.0</td>\n",
              "      <td>0.0</td>\n",
              "      <td>1.0</td>\n",
              "      <td>0.0</td>\n",
              "      <td>1.0</td>\n",
              "      <td>0.0</td>\n",
              "      <td>1.0</td>\n",
              "      <td>0.0</td>\n",
              "      <td>0.0</td>\n",
              "      <td>1.0</td>\n",
              "      <td>1.0</td>\n",
              "      <td>0.0</td>\n",
              "      <td>1.0</td>\n",
              "      <td>1.0</td>\n",
              "    </tr>\n",
              "    <tr>\n",
              "      <th>97</th>\n",
              "      <td>Whitehouse</td>\n",
              "      <td>D</td>\n",
              "      <td>RI</td>\n",
              "      <td>1.0</td>\n",
              "      <td>0.0</td>\n",
              "      <td>0.0</td>\n",
              "      <td>1.0</td>\n",
              "      <td>0.0</td>\n",
              "      <td>1.0</td>\n",
              "      <td>0.0</td>\n",
              "      <td>1.0</td>\n",
              "      <td>0.0</td>\n",
              "      <td>0.0</td>\n",
              "      <td>1.0</td>\n",
              "      <td>1.0</td>\n",
              "      <td>0.0</td>\n",
              "      <td>1.0</td>\n",
              "      <td>1.0</td>\n",
              "    </tr>\n",
              "    <tr>\n",
              "      <th>98</th>\n",
              "      <td>Wicker</td>\n",
              "      <td>R</td>\n",
              "      <td>MS</td>\n",
              "      <td>0.0</td>\n",
              "      <td>1.0</td>\n",
              "      <td>1.0</td>\n",
              "      <td>1.0</td>\n",
              "      <td>1.0</td>\n",
              "      <td>0.0</td>\n",
              "      <td>1.0</td>\n",
              "      <td>0.0</td>\n",
              "      <td>1.0</td>\n",
              "      <td>1.0</td>\n",
              "      <td>0.0</td>\n",
              "      <td>0.0</td>\n",
              "      <td>1.0</td>\n",
              "      <td>0.0</td>\n",
              "      <td>0.0</td>\n",
              "    </tr>\n",
              "    <tr>\n",
              "      <th>99</th>\n",
              "      <td>Wyden</td>\n",
              "      <td>D</td>\n",
              "      <td>OR</td>\n",
              "      <td>1.0</td>\n",
              "      <td>0.0</td>\n",
              "      <td>0.0</td>\n",
              "      <td>1.0</td>\n",
              "      <td>0.0</td>\n",
              "      <td>1.0</td>\n",
              "      <td>0.0</td>\n",
              "      <td>1.0</td>\n",
              "      <td>0.0</td>\n",
              "      <td>0.0</td>\n",
              "      <td>1.0</td>\n",
              "      <td>1.0</td>\n",
              "      <td>0.0</td>\n",
              "      <td>1.0</td>\n",
              "      <td>1.0</td>\n",
              "    </tr>\n",
              "  </tbody>\n",
              "</table>\n",
              "<p>100 rows × 18 columns</p>\n",
              "</div>\n",
              "    <div class=\"colab-df-buttons\">\n",
              "\n",
              "  <div class=\"colab-df-container\">\n",
              "    <button class=\"colab-df-convert\" onclick=\"convertToInteractive('df-59831897-bb0c-43a2-866f-c399a2e341bd')\"\n",
              "            title=\"Convert this dataframe to an interactive table.\"\n",
              "            style=\"display:none;\">\n",
              "\n",
              "  <svg xmlns=\"http://www.w3.org/2000/svg\" height=\"24px\" viewBox=\"0 -960 960 960\">\n",
              "    <path d=\"M120-120v-720h720v720H120Zm60-500h600v-160H180v160Zm220 220h160v-160H400v160Zm0 220h160v-160H400v160ZM180-400h160v-160H180v160Zm440 0h160v-160H620v160ZM180-180h160v-160H180v160Zm440 0h160v-160H620v160Z\"/>\n",
              "  </svg>\n",
              "    </button>\n",
              "\n",
              "  <style>\n",
              "    .colab-df-container {\n",
              "      display:flex;\n",
              "      gap: 12px;\n",
              "    }\n",
              "\n",
              "    .colab-df-convert {\n",
              "      background-color: #E8F0FE;\n",
              "      border: none;\n",
              "      border-radius: 50%;\n",
              "      cursor: pointer;\n",
              "      display: none;\n",
              "      fill: #1967D2;\n",
              "      height: 32px;\n",
              "      padding: 0 0 0 0;\n",
              "      width: 32px;\n",
              "    }\n",
              "\n",
              "    .colab-df-convert:hover {\n",
              "      background-color: #E2EBFA;\n",
              "      box-shadow: 0px 1px 2px rgba(60, 64, 67, 0.3), 0px 1px 3px 1px rgba(60, 64, 67, 0.15);\n",
              "      fill: #174EA6;\n",
              "    }\n",
              "\n",
              "    .colab-df-buttons div {\n",
              "      margin-bottom: 4px;\n",
              "    }\n",
              "\n",
              "    [theme=dark] .colab-df-convert {\n",
              "      background-color: #3B4455;\n",
              "      fill: #D2E3FC;\n",
              "    }\n",
              "\n",
              "    [theme=dark] .colab-df-convert:hover {\n",
              "      background-color: #434B5C;\n",
              "      box-shadow: 0px 1px 3px 1px rgba(0, 0, 0, 0.15);\n",
              "      filter: drop-shadow(0px 1px 2px rgba(0, 0, 0, 0.3));\n",
              "      fill: #FFFFFF;\n",
              "    }\n",
              "  </style>\n",
              "\n",
              "    <script>\n",
              "      const buttonEl =\n",
              "        document.querySelector('#df-59831897-bb0c-43a2-866f-c399a2e341bd button.colab-df-convert');\n",
              "      buttonEl.style.display =\n",
              "        google.colab.kernel.accessAllowed ? 'block' : 'none';\n",
              "\n",
              "      async function convertToInteractive(key) {\n",
              "        const element = document.querySelector('#df-59831897-bb0c-43a2-866f-c399a2e341bd');\n",
              "        const dataTable =\n",
              "          await google.colab.kernel.invokeFunction('convertToInteractive',\n",
              "                                                    [key], {});\n",
              "        if (!dataTable) return;\n",
              "\n",
              "        const docLinkHtml = 'Like what you see? Visit the ' +\n",
              "          '<a target=\"_blank\" href=https://colab.research.google.com/notebooks/data_table.ipynb>data table notebook</a>'\n",
              "          + ' to learn more about interactive tables.';\n",
              "        element.innerHTML = '';\n",
              "        dataTable['output_type'] = 'display_data';\n",
              "        await google.colab.output.renderOutput(dataTable, element);\n",
              "        const docLink = document.createElement('div');\n",
              "        docLink.innerHTML = docLinkHtml;\n",
              "        element.appendChild(docLink);\n",
              "      }\n",
              "    </script>\n",
              "  </div>\n",
              "\n",
              "\n",
              "<div id=\"df-f11ae6e1-a16c-433e-8d58-7bd3865a9adc\">\n",
              "  <button class=\"colab-df-quickchart\" onclick=\"quickchart('df-f11ae6e1-a16c-433e-8d58-7bd3865a9adc')\"\n",
              "            title=\"Suggest charts\"\n",
              "            style=\"display:none;\">\n",
              "\n",
              "<svg xmlns=\"http://www.w3.org/2000/svg\" height=\"24px\"viewBox=\"0 0 24 24\"\n",
              "     width=\"24px\">\n",
              "    <g>\n",
              "        <path d=\"M19 3H5c-1.1 0-2 .9-2 2v14c0 1.1.9 2 2 2h14c1.1 0 2-.9 2-2V5c0-1.1-.9-2-2-2zM9 17H7v-7h2v7zm4 0h-2V7h2v10zm4 0h-2v-4h2v4z\"/>\n",
              "    </g>\n",
              "</svg>\n",
              "  </button>\n",
              "\n",
              "<style>\n",
              "  .colab-df-quickchart {\n",
              "      --bg-color: #E8F0FE;\n",
              "      --fill-color: #1967D2;\n",
              "      --hover-bg-color: #E2EBFA;\n",
              "      --hover-fill-color: #174EA6;\n",
              "      --disabled-fill-color: #AAA;\n",
              "      --disabled-bg-color: #DDD;\n",
              "  }\n",
              "\n",
              "  [theme=dark] .colab-df-quickchart {\n",
              "      --bg-color: #3B4455;\n",
              "      --fill-color: #D2E3FC;\n",
              "      --hover-bg-color: #434B5C;\n",
              "      --hover-fill-color: #FFFFFF;\n",
              "      --disabled-bg-color: #3B4455;\n",
              "      --disabled-fill-color: #666;\n",
              "  }\n",
              "\n",
              "  .colab-df-quickchart {\n",
              "    background-color: var(--bg-color);\n",
              "    border: none;\n",
              "    border-radius: 50%;\n",
              "    cursor: pointer;\n",
              "    display: none;\n",
              "    fill: var(--fill-color);\n",
              "    height: 32px;\n",
              "    padding: 0;\n",
              "    width: 32px;\n",
              "  }\n",
              "\n",
              "  .colab-df-quickchart:hover {\n",
              "    background-color: var(--hover-bg-color);\n",
              "    box-shadow: 0 1px 2px rgba(60, 64, 67, 0.3), 0 1px 3px 1px rgba(60, 64, 67, 0.15);\n",
              "    fill: var(--button-hover-fill-color);\n",
              "  }\n",
              "\n",
              "  .colab-df-quickchart-complete:disabled,\n",
              "  .colab-df-quickchart-complete:disabled:hover {\n",
              "    background-color: var(--disabled-bg-color);\n",
              "    fill: var(--disabled-fill-color);\n",
              "    box-shadow: none;\n",
              "  }\n",
              "\n",
              "  .colab-df-spinner {\n",
              "    border: 2px solid var(--fill-color);\n",
              "    border-color: transparent;\n",
              "    border-bottom-color: var(--fill-color);\n",
              "    animation:\n",
              "      spin 1s steps(1) infinite;\n",
              "  }\n",
              "\n",
              "  @keyframes spin {\n",
              "    0% {\n",
              "      border-color: transparent;\n",
              "      border-bottom-color: var(--fill-color);\n",
              "      border-left-color: var(--fill-color);\n",
              "    }\n",
              "    20% {\n",
              "      border-color: transparent;\n",
              "      border-left-color: var(--fill-color);\n",
              "      border-top-color: var(--fill-color);\n",
              "    }\n",
              "    30% {\n",
              "      border-color: transparent;\n",
              "      border-left-color: var(--fill-color);\n",
              "      border-top-color: var(--fill-color);\n",
              "      border-right-color: var(--fill-color);\n",
              "    }\n",
              "    40% {\n",
              "      border-color: transparent;\n",
              "      border-right-color: var(--fill-color);\n",
              "      border-top-color: var(--fill-color);\n",
              "    }\n",
              "    60% {\n",
              "      border-color: transparent;\n",
              "      border-right-color: var(--fill-color);\n",
              "    }\n",
              "    80% {\n",
              "      border-color: transparent;\n",
              "      border-right-color: var(--fill-color);\n",
              "      border-bottom-color: var(--fill-color);\n",
              "    }\n",
              "    90% {\n",
              "      border-color: transparent;\n",
              "      border-bottom-color: var(--fill-color);\n",
              "    }\n",
              "  }\n",
              "</style>\n",
              "\n",
              "  <script>\n",
              "    async function quickchart(key) {\n",
              "      const quickchartButtonEl =\n",
              "        document.querySelector('#' + key + ' button');\n",
              "      quickchartButtonEl.disabled = true;  // To prevent multiple clicks.\n",
              "      quickchartButtonEl.classList.add('colab-df-spinner');\n",
              "      try {\n",
              "        const charts = await google.colab.kernel.invokeFunction(\n",
              "            'suggestCharts', [key], {});\n",
              "      } catch (error) {\n",
              "        console.error('Error during call to suggestCharts:', error);\n",
              "      }\n",
              "      quickchartButtonEl.classList.remove('colab-df-spinner');\n",
              "      quickchartButtonEl.classList.add('colab-df-quickchart-complete');\n",
              "    }\n",
              "    (() => {\n",
              "      let quickchartButtonEl =\n",
              "        document.querySelector('#df-f11ae6e1-a16c-433e-8d58-7bd3865a9adc button');\n",
              "      quickchartButtonEl.style.display =\n",
              "        google.colab.kernel.accessAllowed ? 'block' : 'none';\n",
              "    })();\n",
              "  </script>\n",
              "</div>\n",
              "\n",
              "  <div id=\"id_12925f0d-bb85-40b7-bc64-0567740f7bce\">\n",
              "    <style>\n",
              "      .colab-df-generate {\n",
              "        background-color: #E8F0FE;\n",
              "        border: none;\n",
              "        border-radius: 50%;\n",
              "        cursor: pointer;\n",
              "        display: none;\n",
              "        fill: #1967D2;\n",
              "        height: 32px;\n",
              "        padding: 0 0 0 0;\n",
              "        width: 32px;\n",
              "      }\n",
              "\n",
              "      .colab-df-generate:hover {\n",
              "        background-color: #E2EBFA;\n",
              "        box-shadow: 0px 1px 2px rgba(60, 64, 67, 0.3), 0px 1px 3px 1px rgba(60, 64, 67, 0.15);\n",
              "        fill: #174EA6;\n",
              "      }\n",
              "\n",
              "      [theme=dark] .colab-df-generate {\n",
              "        background-color: #3B4455;\n",
              "        fill: #D2E3FC;\n",
              "      }\n",
              "\n",
              "      [theme=dark] .colab-df-generate:hover {\n",
              "        background-color: #434B5C;\n",
              "        box-shadow: 0px 1px 3px 1px rgba(0, 0, 0, 0.15);\n",
              "        filter: drop-shadow(0px 1px 2px rgba(0, 0, 0, 0.3));\n",
              "        fill: #FFFFFF;\n",
              "      }\n",
              "    </style>\n",
              "    <button class=\"colab-df-generate\" onclick=\"generateWithVariable('df')\"\n",
              "            title=\"Generate code using this dataframe.\"\n",
              "            style=\"display:none;\">\n",
              "\n",
              "  <svg xmlns=\"http://www.w3.org/2000/svg\" height=\"24px\"viewBox=\"0 0 24 24\"\n",
              "       width=\"24px\">\n",
              "    <path d=\"M7,19H8.4L18.45,9,17,7.55,7,17.6ZM5,21V16.75L18.45,3.32a2,2,0,0,1,2.83,0l1.4,1.43a1.91,1.91,0,0,1,.58,1.4,1.91,1.91,0,0,1-.58,1.4L9.25,21ZM18.45,9,17,7.55Zm-12,3A5.31,5.31,0,0,0,4.9,8.1,5.31,5.31,0,0,0,1,6.5,5.31,5.31,0,0,0,4.9,4.9,5.31,5.31,0,0,0,6.5,1,5.31,5.31,0,0,0,8.1,4.9,5.31,5.31,0,0,0,12,6.5,5.46,5.46,0,0,0,6.5,12Z\"/>\n",
              "  </svg>\n",
              "    </button>\n",
              "    <script>\n",
              "      (() => {\n",
              "      const buttonEl =\n",
              "        document.querySelector('#id_12925f0d-bb85-40b7-bc64-0567740f7bce button.colab-df-generate');\n",
              "      buttonEl.style.display =\n",
              "        google.colab.kernel.accessAllowed ? 'block' : 'none';\n",
              "\n",
              "      buttonEl.onclick = () => {\n",
              "        google.colab.notebook.generateWithVariable('df');\n",
              "      }\n",
              "      })();\n",
              "    </script>\n",
              "  </div>\n",
              "\n",
              "    </div>\n",
              "  </div>\n"
            ]
          },
          "metadata": {},
          "execution_count": 3
        }
      ],
      "source": [
        "df = pd.read_csv(r\"/content/Congress Dataset.csv\")\n",
        "df"
      ],
      "id": "5dFE-Xg8nvaJ"
    },
    {
      "cell_type": "code",
      "execution_count": null,
      "metadata": {
        "colab": {
          "base_uri": "https://localhost:8080/",
          "height": 423
        },
        "id": "z55ywI-knvaK",
        "outputId": "28c14d83-f4be-4361-de7e-d67e7546384a"
      },
      "outputs": [
        {
          "output_type": "execute_result",
          "data": {
            "text/plain": [
              "    vote1  vote2  vote3  vote4  vote5  vote6  vote7  vote8  vote9  vote10  \\\n",
              "0     0.0    1.0    1.0    1.0    1.0    0.0    0.0    1.0    1.0     1.0   \n",
              "1     0.0    1.0    1.0    1.0    1.0    0.0    0.0    1.0    0.0     1.0   \n",
              "2     1.0    0.0    0.0    1.0    0.0    1.0    0.0    1.0    0.0     0.0   \n",
              "3     0.0    1.0    1.0    1.0    1.0    0.0    1.0    1.0    1.0     1.0   \n",
              "4     0.0    0.0    0.0    1.0    0.0    1.0    0.0    1.0    0.0     0.0   \n",
              "..    ...    ...    ...    ...    ...    ...    ...    ...    ...     ...   \n",
              "95    1.0    1.0    0.0    1.0    0.0    1.0    0.0    1.0    0.0     0.0   \n",
              "96    1.0    0.0    0.0    1.0    0.0    1.0    0.0    1.0    0.0     0.0   \n",
              "97    1.0    0.0    0.0    1.0    0.0    1.0    0.0    1.0    0.0     0.0   \n",
              "98    0.0    1.0    1.0    1.0    1.0    0.0    1.0    0.0    1.0     1.0   \n",
              "99    1.0    0.0    0.0    1.0    0.0    1.0    0.0    1.0    0.0     0.0   \n",
              "\n",
              "    vote11  vote12  vote13  vote14  vote15  \n",
              "0      0.0     0.0     0.0     0.0     0.0  \n",
              "1      0.0     1.0     0.0     1.0     0.0  \n",
              "2      1.0     1.0     0.0     1.0     1.0  \n",
              "3      0.0     0.0     1.0     0.0     0.0  \n",
              "4      0.0     1.0     0.0     1.0     0.0  \n",
              "..     ...     ...     ...     ...     ...  \n",
              "95     1.0     1.0     0.0     1.0     0.0  \n",
              "96     1.0     1.0     0.0     1.0     1.0  \n",
              "97     1.0     1.0     0.0     1.0     1.0  \n",
              "98     0.0     0.0     1.0     0.0     0.0  \n",
              "99     1.0     1.0     0.0     1.0     1.0  \n",
              "\n",
              "[100 rows x 15 columns]"
            ],
            "text/html": [
              "\n",
              "  <div id=\"df-f3a1683d-7891-454d-b89a-7fb00a401290\" class=\"colab-df-container\">\n",
              "    <div>\n",
              "<style scoped>\n",
              "    .dataframe tbody tr th:only-of-type {\n",
              "        vertical-align: middle;\n",
              "    }\n",
              "\n",
              "    .dataframe tbody tr th {\n",
              "        vertical-align: top;\n",
              "    }\n",
              "\n",
              "    .dataframe thead th {\n",
              "        text-align: right;\n",
              "    }\n",
              "</style>\n",
              "<table border=\"1\" class=\"dataframe\">\n",
              "  <thead>\n",
              "    <tr style=\"text-align: right;\">\n",
              "      <th></th>\n",
              "      <th>vote1</th>\n",
              "      <th>vote2</th>\n",
              "      <th>vote3</th>\n",
              "      <th>vote4</th>\n",
              "      <th>vote5</th>\n",
              "      <th>vote6</th>\n",
              "      <th>vote7</th>\n",
              "      <th>vote8</th>\n",
              "      <th>vote9</th>\n",
              "      <th>vote10</th>\n",
              "      <th>vote11</th>\n",
              "      <th>vote12</th>\n",
              "      <th>vote13</th>\n",
              "      <th>vote14</th>\n",
              "      <th>vote15</th>\n",
              "    </tr>\n",
              "  </thead>\n",
              "  <tbody>\n",
              "    <tr>\n",
              "      <th>0</th>\n",
              "      <td>0.0</td>\n",
              "      <td>1.0</td>\n",
              "      <td>1.0</td>\n",
              "      <td>1.0</td>\n",
              "      <td>1.0</td>\n",
              "      <td>0.0</td>\n",
              "      <td>0.0</td>\n",
              "      <td>1.0</td>\n",
              "      <td>1.0</td>\n",
              "      <td>1.0</td>\n",
              "      <td>0.0</td>\n",
              "      <td>0.0</td>\n",
              "      <td>0.0</td>\n",
              "      <td>0.0</td>\n",
              "      <td>0.0</td>\n",
              "    </tr>\n",
              "    <tr>\n",
              "      <th>1</th>\n",
              "      <td>0.0</td>\n",
              "      <td>1.0</td>\n",
              "      <td>1.0</td>\n",
              "      <td>1.0</td>\n",
              "      <td>1.0</td>\n",
              "      <td>0.0</td>\n",
              "      <td>0.0</td>\n",
              "      <td>1.0</td>\n",
              "      <td>0.0</td>\n",
              "      <td>1.0</td>\n",
              "      <td>0.0</td>\n",
              "      <td>1.0</td>\n",
              "      <td>0.0</td>\n",
              "      <td>1.0</td>\n",
              "      <td>0.0</td>\n",
              "    </tr>\n",
              "    <tr>\n",
              "      <th>2</th>\n",
              "      <td>1.0</td>\n",
              "      <td>0.0</td>\n",
              "      <td>0.0</td>\n",
              "      <td>1.0</td>\n",
              "      <td>0.0</td>\n",
              "      <td>1.0</td>\n",
              "      <td>0.0</td>\n",
              "      <td>1.0</td>\n",
              "      <td>0.0</td>\n",
              "      <td>0.0</td>\n",
              "      <td>1.0</td>\n",
              "      <td>1.0</td>\n",
              "      <td>0.0</td>\n",
              "      <td>1.0</td>\n",
              "      <td>1.0</td>\n",
              "    </tr>\n",
              "    <tr>\n",
              "      <th>3</th>\n",
              "      <td>0.0</td>\n",
              "      <td>1.0</td>\n",
              "      <td>1.0</td>\n",
              "      <td>1.0</td>\n",
              "      <td>1.0</td>\n",
              "      <td>0.0</td>\n",
              "      <td>1.0</td>\n",
              "      <td>1.0</td>\n",
              "      <td>1.0</td>\n",
              "      <td>1.0</td>\n",
              "      <td>0.0</td>\n",
              "      <td>0.0</td>\n",
              "      <td>1.0</td>\n",
              "      <td>0.0</td>\n",
              "      <td>0.0</td>\n",
              "    </tr>\n",
              "    <tr>\n",
              "      <th>4</th>\n",
              "      <td>0.0</td>\n",
              "      <td>0.0</td>\n",
              "      <td>0.0</td>\n",
              "      <td>1.0</td>\n",
              "      <td>0.0</td>\n",
              "      <td>1.0</td>\n",
              "      <td>0.0</td>\n",
              "      <td>1.0</td>\n",
              "      <td>0.0</td>\n",
              "      <td>0.0</td>\n",
              "      <td>0.0</td>\n",
              "      <td>1.0</td>\n",
              "      <td>0.0</td>\n",
              "      <td>1.0</td>\n",
              "      <td>0.0</td>\n",
              "    </tr>\n",
              "    <tr>\n",
              "      <th>...</th>\n",
              "      <td>...</td>\n",
              "      <td>...</td>\n",
              "      <td>...</td>\n",
              "      <td>...</td>\n",
              "      <td>...</td>\n",
              "      <td>...</td>\n",
              "      <td>...</td>\n",
              "      <td>...</td>\n",
              "      <td>...</td>\n",
              "      <td>...</td>\n",
              "      <td>...</td>\n",
              "      <td>...</td>\n",
              "      <td>...</td>\n",
              "      <td>...</td>\n",
              "      <td>...</td>\n",
              "    </tr>\n",
              "    <tr>\n",
              "      <th>95</th>\n",
              "      <td>1.0</td>\n",
              "      <td>1.0</td>\n",
              "      <td>0.0</td>\n",
              "      <td>1.0</td>\n",
              "      <td>0.0</td>\n",
              "      <td>1.0</td>\n",
              "      <td>0.0</td>\n",
              "      <td>1.0</td>\n",
              "      <td>0.0</td>\n",
              "      <td>0.0</td>\n",
              "      <td>1.0</td>\n",
              "      <td>1.0</td>\n",
              "      <td>0.0</td>\n",
              "      <td>1.0</td>\n",
              "      <td>0.0</td>\n",
              "    </tr>\n",
              "    <tr>\n",
              "      <th>96</th>\n",
              "      <td>1.0</td>\n",
              "      <td>0.0</td>\n",
              "      <td>0.0</td>\n",
              "      <td>1.0</td>\n",
              "      <td>0.0</td>\n",
              "      <td>1.0</td>\n",
              "      <td>0.0</td>\n",
              "      <td>1.0</td>\n",
              "      <td>0.0</td>\n",
              "      <td>0.0</td>\n",
              "      <td>1.0</td>\n",
              "      <td>1.0</td>\n",
              "      <td>0.0</td>\n",
              "      <td>1.0</td>\n",
              "      <td>1.0</td>\n",
              "    </tr>\n",
              "    <tr>\n",
              "      <th>97</th>\n",
              "      <td>1.0</td>\n",
              "      <td>0.0</td>\n",
              "      <td>0.0</td>\n",
              "      <td>1.0</td>\n",
              "      <td>0.0</td>\n",
              "      <td>1.0</td>\n",
              "      <td>0.0</td>\n",
              "      <td>1.0</td>\n",
              "      <td>0.0</td>\n",
              "      <td>0.0</td>\n",
              "      <td>1.0</td>\n",
              "      <td>1.0</td>\n",
              "      <td>0.0</td>\n",
              "      <td>1.0</td>\n",
              "      <td>1.0</td>\n",
              "    </tr>\n",
              "    <tr>\n",
              "      <th>98</th>\n",
              "      <td>0.0</td>\n",
              "      <td>1.0</td>\n",
              "      <td>1.0</td>\n",
              "      <td>1.0</td>\n",
              "      <td>1.0</td>\n",
              "      <td>0.0</td>\n",
              "      <td>1.0</td>\n",
              "      <td>0.0</td>\n",
              "      <td>1.0</td>\n",
              "      <td>1.0</td>\n",
              "      <td>0.0</td>\n",
              "      <td>0.0</td>\n",
              "      <td>1.0</td>\n",
              "      <td>0.0</td>\n",
              "      <td>0.0</td>\n",
              "    </tr>\n",
              "    <tr>\n",
              "      <th>99</th>\n",
              "      <td>1.0</td>\n",
              "      <td>0.0</td>\n",
              "      <td>0.0</td>\n",
              "      <td>1.0</td>\n",
              "      <td>0.0</td>\n",
              "      <td>1.0</td>\n",
              "      <td>0.0</td>\n",
              "      <td>1.0</td>\n",
              "      <td>0.0</td>\n",
              "      <td>0.0</td>\n",
              "      <td>1.0</td>\n",
              "      <td>1.0</td>\n",
              "      <td>0.0</td>\n",
              "      <td>1.0</td>\n",
              "      <td>1.0</td>\n",
              "    </tr>\n",
              "  </tbody>\n",
              "</table>\n",
              "<p>100 rows × 15 columns</p>\n",
              "</div>\n",
              "    <div class=\"colab-df-buttons\">\n",
              "\n",
              "  <div class=\"colab-df-container\">\n",
              "    <button class=\"colab-df-convert\" onclick=\"convertToInteractive('df-f3a1683d-7891-454d-b89a-7fb00a401290')\"\n",
              "            title=\"Convert this dataframe to an interactive table.\"\n",
              "            style=\"display:none;\">\n",
              "\n",
              "  <svg xmlns=\"http://www.w3.org/2000/svg\" height=\"24px\" viewBox=\"0 -960 960 960\">\n",
              "    <path d=\"M120-120v-720h720v720H120Zm60-500h600v-160H180v160Zm220 220h160v-160H400v160Zm0 220h160v-160H400v160ZM180-400h160v-160H180v160Zm440 0h160v-160H620v160ZM180-180h160v-160H180v160Zm440 0h160v-160H620v160Z\"/>\n",
              "  </svg>\n",
              "    </button>\n",
              "\n",
              "  <style>\n",
              "    .colab-df-container {\n",
              "      display:flex;\n",
              "      gap: 12px;\n",
              "    }\n",
              "\n",
              "    .colab-df-convert {\n",
              "      background-color: #E8F0FE;\n",
              "      border: none;\n",
              "      border-radius: 50%;\n",
              "      cursor: pointer;\n",
              "      display: none;\n",
              "      fill: #1967D2;\n",
              "      height: 32px;\n",
              "      padding: 0 0 0 0;\n",
              "      width: 32px;\n",
              "    }\n",
              "\n",
              "    .colab-df-convert:hover {\n",
              "      background-color: #E2EBFA;\n",
              "      box-shadow: 0px 1px 2px rgba(60, 64, 67, 0.3), 0px 1px 3px 1px rgba(60, 64, 67, 0.15);\n",
              "      fill: #174EA6;\n",
              "    }\n",
              "\n",
              "    .colab-df-buttons div {\n",
              "      margin-bottom: 4px;\n",
              "    }\n",
              "\n",
              "    [theme=dark] .colab-df-convert {\n",
              "      background-color: #3B4455;\n",
              "      fill: #D2E3FC;\n",
              "    }\n",
              "\n",
              "    [theme=dark] .colab-df-convert:hover {\n",
              "      background-color: #434B5C;\n",
              "      box-shadow: 0px 1px 3px 1px rgba(0, 0, 0, 0.15);\n",
              "      filter: drop-shadow(0px 1px 2px rgba(0, 0, 0, 0.3));\n",
              "      fill: #FFFFFF;\n",
              "    }\n",
              "  </style>\n",
              "\n",
              "    <script>\n",
              "      const buttonEl =\n",
              "        document.querySelector('#df-f3a1683d-7891-454d-b89a-7fb00a401290 button.colab-df-convert');\n",
              "      buttonEl.style.display =\n",
              "        google.colab.kernel.accessAllowed ? 'block' : 'none';\n",
              "\n",
              "      async function convertToInteractive(key) {\n",
              "        const element = document.querySelector('#df-f3a1683d-7891-454d-b89a-7fb00a401290');\n",
              "        const dataTable =\n",
              "          await google.colab.kernel.invokeFunction('convertToInteractive',\n",
              "                                                    [key], {});\n",
              "        if (!dataTable) return;\n",
              "\n",
              "        const docLinkHtml = 'Like what you see? Visit the ' +\n",
              "          '<a target=\"_blank\" href=https://colab.research.google.com/notebooks/data_table.ipynb>data table notebook</a>'\n",
              "          + ' to learn more about interactive tables.';\n",
              "        element.innerHTML = '';\n",
              "        dataTable['output_type'] = 'display_data';\n",
              "        await google.colab.output.renderOutput(dataTable, element);\n",
              "        const docLink = document.createElement('div');\n",
              "        docLink.innerHTML = docLinkHtml;\n",
              "        element.appendChild(docLink);\n",
              "      }\n",
              "    </script>\n",
              "  </div>\n",
              "\n",
              "\n",
              "<div id=\"df-5e0700e2-f836-4fe9-bfea-79258e30b023\">\n",
              "  <button class=\"colab-df-quickchart\" onclick=\"quickchart('df-5e0700e2-f836-4fe9-bfea-79258e30b023')\"\n",
              "            title=\"Suggest charts\"\n",
              "            style=\"display:none;\">\n",
              "\n",
              "<svg xmlns=\"http://www.w3.org/2000/svg\" height=\"24px\"viewBox=\"0 0 24 24\"\n",
              "     width=\"24px\">\n",
              "    <g>\n",
              "        <path d=\"M19 3H5c-1.1 0-2 .9-2 2v14c0 1.1.9 2 2 2h14c1.1 0 2-.9 2-2V5c0-1.1-.9-2-2-2zM9 17H7v-7h2v7zm4 0h-2V7h2v10zm4 0h-2v-4h2v4z\"/>\n",
              "    </g>\n",
              "</svg>\n",
              "  </button>\n",
              "\n",
              "<style>\n",
              "  .colab-df-quickchart {\n",
              "      --bg-color: #E8F0FE;\n",
              "      --fill-color: #1967D2;\n",
              "      --hover-bg-color: #E2EBFA;\n",
              "      --hover-fill-color: #174EA6;\n",
              "      --disabled-fill-color: #AAA;\n",
              "      --disabled-bg-color: #DDD;\n",
              "  }\n",
              "\n",
              "  [theme=dark] .colab-df-quickchart {\n",
              "      --bg-color: #3B4455;\n",
              "      --fill-color: #D2E3FC;\n",
              "      --hover-bg-color: #434B5C;\n",
              "      --hover-fill-color: #FFFFFF;\n",
              "      --disabled-bg-color: #3B4455;\n",
              "      --disabled-fill-color: #666;\n",
              "  }\n",
              "\n",
              "  .colab-df-quickchart {\n",
              "    background-color: var(--bg-color);\n",
              "    border: none;\n",
              "    border-radius: 50%;\n",
              "    cursor: pointer;\n",
              "    display: none;\n",
              "    fill: var(--fill-color);\n",
              "    height: 32px;\n",
              "    padding: 0;\n",
              "    width: 32px;\n",
              "  }\n",
              "\n",
              "  .colab-df-quickchart:hover {\n",
              "    background-color: var(--hover-bg-color);\n",
              "    box-shadow: 0 1px 2px rgba(60, 64, 67, 0.3), 0 1px 3px 1px rgba(60, 64, 67, 0.15);\n",
              "    fill: var(--button-hover-fill-color);\n",
              "  }\n",
              "\n",
              "  .colab-df-quickchart-complete:disabled,\n",
              "  .colab-df-quickchart-complete:disabled:hover {\n",
              "    background-color: var(--disabled-bg-color);\n",
              "    fill: var(--disabled-fill-color);\n",
              "    box-shadow: none;\n",
              "  }\n",
              "\n",
              "  .colab-df-spinner {\n",
              "    border: 2px solid var(--fill-color);\n",
              "    border-color: transparent;\n",
              "    border-bottom-color: var(--fill-color);\n",
              "    animation:\n",
              "      spin 1s steps(1) infinite;\n",
              "  }\n",
              "\n",
              "  @keyframes spin {\n",
              "    0% {\n",
              "      border-color: transparent;\n",
              "      border-bottom-color: var(--fill-color);\n",
              "      border-left-color: var(--fill-color);\n",
              "    }\n",
              "    20% {\n",
              "      border-color: transparent;\n",
              "      border-left-color: var(--fill-color);\n",
              "      border-top-color: var(--fill-color);\n",
              "    }\n",
              "    30% {\n",
              "      border-color: transparent;\n",
              "      border-left-color: var(--fill-color);\n",
              "      border-top-color: var(--fill-color);\n",
              "      border-right-color: var(--fill-color);\n",
              "    }\n",
              "    40% {\n",
              "      border-color: transparent;\n",
              "      border-right-color: var(--fill-color);\n",
              "      border-top-color: var(--fill-color);\n",
              "    }\n",
              "    60% {\n",
              "      border-color: transparent;\n",
              "      border-right-color: var(--fill-color);\n",
              "    }\n",
              "    80% {\n",
              "      border-color: transparent;\n",
              "      border-right-color: var(--fill-color);\n",
              "      border-bottom-color: var(--fill-color);\n",
              "    }\n",
              "    90% {\n",
              "      border-color: transparent;\n",
              "      border-bottom-color: var(--fill-color);\n",
              "    }\n",
              "  }\n",
              "</style>\n",
              "\n",
              "  <script>\n",
              "    async function quickchart(key) {\n",
              "      const quickchartButtonEl =\n",
              "        document.querySelector('#' + key + ' button');\n",
              "      quickchartButtonEl.disabled = true;  // To prevent multiple clicks.\n",
              "      quickchartButtonEl.classList.add('colab-df-spinner');\n",
              "      try {\n",
              "        const charts = await google.colab.kernel.invokeFunction(\n",
              "            'suggestCharts', [key], {});\n",
              "      } catch (error) {\n",
              "        console.error('Error during call to suggestCharts:', error);\n",
              "      }\n",
              "      quickchartButtonEl.classList.remove('colab-df-spinner');\n",
              "      quickchartButtonEl.classList.add('colab-df-quickchart-complete');\n",
              "    }\n",
              "    (() => {\n",
              "      let quickchartButtonEl =\n",
              "        document.querySelector('#df-5e0700e2-f836-4fe9-bfea-79258e30b023 button');\n",
              "      quickchartButtonEl.style.display =\n",
              "        google.colab.kernel.accessAllowed ? 'block' : 'none';\n",
              "    })();\n",
              "  </script>\n",
              "</div>\n",
              "\n",
              "  <div id=\"id_9cb45583-b699-4b2b-a798-9597ce195730\">\n",
              "    <style>\n",
              "      .colab-df-generate {\n",
              "        background-color: #E8F0FE;\n",
              "        border: none;\n",
              "        border-radius: 50%;\n",
              "        cursor: pointer;\n",
              "        display: none;\n",
              "        fill: #1967D2;\n",
              "        height: 32px;\n",
              "        padding: 0 0 0 0;\n",
              "        width: 32px;\n",
              "      }\n",
              "\n",
              "      .colab-df-generate:hover {\n",
              "        background-color: #E2EBFA;\n",
              "        box-shadow: 0px 1px 2px rgba(60, 64, 67, 0.3), 0px 1px 3px 1px rgba(60, 64, 67, 0.15);\n",
              "        fill: #174EA6;\n",
              "      }\n",
              "\n",
              "      [theme=dark] .colab-df-generate {\n",
              "        background-color: #3B4455;\n",
              "        fill: #D2E3FC;\n",
              "      }\n",
              "\n",
              "      [theme=dark] .colab-df-generate:hover {\n",
              "        background-color: #434B5C;\n",
              "        box-shadow: 0px 1px 3px 1px rgba(0, 0, 0, 0.15);\n",
              "        filter: drop-shadow(0px 1px 2px rgba(0, 0, 0, 0.3));\n",
              "        fill: #FFFFFF;\n",
              "      }\n",
              "    </style>\n",
              "    <button class=\"colab-df-generate\" onclick=\"generateWithVariable('X')\"\n",
              "            title=\"Generate code using this dataframe.\"\n",
              "            style=\"display:none;\">\n",
              "\n",
              "  <svg xmlns=\"http://www.w3.org/2000/svg\" height=\"24px\"viewBox=\"0 0 24 24\"\n",
              "       width=\"24px\">\n",
              "    <path d=\"M7,19H8.4L18.45,9,17,7.55,7,17.6ZM5,21V16.75L18.45,3.32a2,2,0,0,1,2.83,0l1.4,1.43a1.91,1.91,0,0,1,.58,1.4,1.91,1.91,0,0,1-.58,1.4L9.25,21ZM18.45,9,17,7.55Zm-12,3A5.31,5.31,0,0,0,4.9,8.1,5.31,5.31,0,0,0,1,6.5,5.31,5.31,0,0,0,4.9,4.9,5.31,5.31,0,0,0,6.5,1,5.31,5.31,0,0,0,8.1,4.9,5.31,5.31,0,0,0,12,6.5,5.46,5.46,0,0,0,6.5,12Z\"/>\n",
              "  </svg>\n",
              "    </button>\n",
              "    <script>\n",
              "      (() => {\n",
              "      const buttonEl =\n",
              "        document.querySelector('#id_9cb45583-b699-4b2b-a798-9597ce195730 button.colab-df-generate');\n",
              "      buttonEl.style.display =\n",
              "        google.colab.kernel.accessAllowed ? 'block' : 'none';\n",
              "\n",
              "      buttonEl.onclick = () => {\n",
              "        google.colab.notebook.generateWithVariable('X');\n",
              "      }\n",
              "      })();\n",
              "    </script>\n",
              "  </div>\n",
              "\n",
              "    </div>\n",
              "  </div>\n"
            ]
          },
          "metadata": {},
          "execution_count": 4
        }
      ],
      "source": [
        "columns_to_drop=[\"name\",\"party\",\"state\"]\n",
        "X = df.drop(columns_to_drop,axis=1)\n",
        "X"
      ],
      "id": "z55ywI-knvaK"
    },
    {
      "cell_type": "code",
      "execution_count": null,
      "metadata": {
        "colab": {
          "base_uri": "https://localhost:8080/"
        },
        "id": "AWX8eGT1nvaK",
        "outputId": "2935e94a-b393-43f1-a4f7-f60a62ccafdd"
      },
      "outputs": [
        {
          "output_type": "execute_result",
          "data": {
            "text/plain": [
              "(100, 15)"
            ]
          },
          "metadata": {},
          "execution_count": 5
        }
      ],
      "source": [
        "X.shape"
      ],
      "id": "AWX8eGT1nvaK"
    },
    {
      "cell_type": "code",
      "execution_count": null,
      "metadata": {
        "colab": {
          "base_uri": "https://localhost:8080/"
        },
        "id": "YKjcOYZEnvaL",
        "outputId": "37464530-eec2-4f12-84bb-226b3bdad97f"
      },
      "outputs": [
        {
          "output_type": "execute_result",
          "data": {
            "text/plain": [
              "0     1\n",
              "1     1\n",
              "2     0\n",
              "3     1\n",
              "4     0\n",
              "     ..\n",
              "95    0\n",
              "96    0\n",
              "97    0\n",
              "98    1\n",
              "99    0\n",
              "Name: party, Length: 100, dtype: int64"
            ]
          },
          "metadata": {},
          "execution_count": 6
        }
      ],
      "source": [
        "y = df[\"party\"]\n",
        "y = y.replace(\"D\", 0)\n",
        "y = y.replace(\"R\", 1)\n",
        "y = y.replace(\"I\",1)\n",
        "y"
      ],
      "id": "YKjcOYZEnvaL"
    },
    {
      "cell_type": "markdown",
      "source": [
        "### First Calc COV Matrix to Calc Eigens"
      ],
      "metadata": {
        "id": "NEo8aukJmqxJ"
      },
      "id": "NEo8aukJmqxJ"
    },
    {
      "cell_type": "code",
      "execution_count": null,
      "metadata": {
        "id": "4CMtL3aMnvaL"
      },
      "outputs": [],
      "source": [
        "def calculate_covariance_matrix(X):\n",
        "    n = X.shape[0] # Number of samples\n",
        "    X_std = X - np.mean(X.T, axis=1) # Standardize the data by subtracting the column means\n",
        "\n",
        "    covariance_matrix = np.dot(X_std.T, X_std) / (n) # Calculate the covariance matrix\n",
        "\n",
        "    return covariance_matrix"
      ],
      "id": "4CMtL3aMnvaL"
    },
    {
      "cell_type": "code",
      "execution_count": null,
      "metadata": {
        "id": "Z_oJm5fqnvaL"
      },
      "outputs": [],
      "source": [
        "cov_matrix=calculate_covariance_matrix(X)"
      ],
      "id": "Z_oJm5fqnvaL"
    },
    {
      "cell_type": "code",
      "source": [
        "cov_matrix.shape"
      ],
      "metadata": {
        "colab": {
          "base_uri": "https://localhost:8080/"
        },
        "id": "ME7GhnB1uR3T",
        "outputId": "6c92d2ed-6b84-421d-bbe0-10112ce69b52"
      },
      "id": "ME7GhnB1uR3T",
      "execution_count": null,
      "outputs": [
        {
          "output_type": "execute_result",
          "data": {
            "text/plain": [
              "(15, 15)"
            ]
          },
          "metadata": {},
          "execution_count": 9
        }
      ]
    },
    {
      "cell_type": "code",
      "source": [
        "len(cov_matrix)"
      ],
      "metadata": {
        "colab": {
          "base_uri": "https://localhost:8080/"
        },
        "id": "8i2vuBZWum8X",
        "outputId": "d3bb5d1b-405a-4d53-9f20-f68b4c606902"
      },
      "id": "8i2vuBZWum8X",
      "execution_count": null,
      "outputs": [
        {
          "output_type": "execute_result",
          "data": {
            "text/plain": [
              "15"
            ]
          },
          "metadata": {},
          "execution_count": 10
        }
      ]
    },
    {
      "cell_type": "markdown",
      "source": [
        "### Using power iteration method to calc Eigens from scratch..."
      ],
      "metadata": {
        "id": "TJP5f8Ven3Sh"
      },
      "id": "TJP5f8Ven3Sh"
    },
    {
      "cell_type": "code",
      "execution_count": null,
      "metadata": {
        "id": "SsQNp93NnvaL"
      },
      "outputs": [],
      "source": [
        "def power_iteration(A, num_iterations):\n",
        "    n = len(A)\n",
        "    eigenvectors = []\n",
        "    eigenvalues = []\n",
        "    #This will run 15 times\n",
        "    for _ in range(n):\n",
        "        # Create a random initial vector\n",
        "        x = np.random.rand(n)\n",
        "        for _ in range(num_iterations):\n",
        "            # Multiply matrix A with vector x\n",
        "            y = np.dot(A, x)\n",
        "            # Normalize the resulting vector\n",
        "            x = y / np.linalg.norm(y)\n",
        "\n",
        "        # Compute the eigenvalue corresponding to x\n",
        "        eigenvalue = np.dot(np.dot(A, x), x)\n",
        "        eigenvalues.append(eigenvalue)\n",
        "        # Append the eigenvector to the list\n",
        "        eigenvectors.append(x)\n",
        "\n",
        "        # Remove the dominant eigenvector and value from A\n",
        "        A -= eigenvalue * np.outer(x, x)\n",
        "\n",
        "    return eigenvalues, eigenvectors\n"
      ],
      "id": "SsQNp93NnvaL"
    },
    {
      "cell_type": "code",
      "execution_count": null,
      "metadata": {
        "id": "pWpq1snYnvaM"
      },
      "outputs": [],
      "source": [
        "eigenvalues,eigenvectors=power_iteration(cov_matrix,100)\n",
        "eigenvalues=np.array(eigenvalues)\n",
        "eigenvectors=np.array(eigenvectors)"
      ],
      "id": "pWpq1snYnvaM"
    },
    {
      "cell_type": "code",
      "execution_count": null,
      "metadata": {
        "colab": {
          "base_uri": "https://localhost:8080/"
        },
        "id": "9-Zaze3vnvaM",
        "outputId": "4007d8b6-2ce8-45ff-d839-98fd414d08f4"
      },
      "outputs": [
        {
          "output_type": "execute_result",
          "data": {
            "text/plain": [
              "(15, 15)"
            ]
          },
          "metadata": {},
          "execution_count": 13
        }
      ],
      "source": [
        "cov_matrix.shape"
      ],
      "id": "9-Zaze3vnvaM"
    },
    {
      "cell_type": "code",
      "execution_count": null,
      "metadata": {
        "colab": {
          "base_uri": "https://localhost:8080/"
        },
        "id": "ljFZo5MenvaM",
        "outputId": "a662f667-c3ba-4c9c-b48a-317afc7b1a3e"
      },
      "outputs": [
        {
          "output_type": "execute_result",
          "data": {
            "text/plain": [
              "array([2.70097367e+00, 1.38037219e-01, 7.69231241e-02, 5.41697285e-02,\n",
              "       4.80262075e-02, 3.60209974e-02, 2.74118642e-02, 2.34122838e-02,\n",
              "       1.35734193e-02, 1.25000290e-02, 1.21160445e-02, 1.03877276e-02,\n",
              "       7.32432075e-03, 5.73626237e-03, 1.63727237e-03])"
            ]
          },
          "metadata": {},
          "execution_count": 14
        }
      ],
      "source": [
        "eigenvalues"
      ],
      "id": "ljFZo5MenvaM"
    },
    {
      "cell_type": "code",
      "execution_count": null,
      "metadata": {
        "colab": {
          "base_uri": "https://localhost:8080/"
        },
        "id": "kAstqDthnvaN",
        "outputId": "0f360e6d-257a-4b0e-8d7b-0f539654bc18"
      },
      "outputs": [
        {
          "output_type": "execute_result",
          "data": {
            "text/plain": [
              "(15,)"
            ]
          },
          "metadata": {},
          "execution_count": 15
        }
      ],
      "source": [
        "eigenvalues.shape"
      ],
      "id": "kAstqDthnvaN"
    },
    {
      "cell_type": "code",
      "execution_count": null,
      "metadata": {
        "colab": {
          "base_uri": "https://localhost:8080/"
        },
        "id": "RxDr9v1AnvaN",
        "outputId": "480a18bb-7b8c-4485-ef26-f86fbb666ec6"
      },
      "outputs": [
        {
          "output_type": "execute_result",
          "data": {
            "text/plain": [
              "array([[-2.27871096e-01,  2.87640181e-01,  2.87235997e-01,\n",
              "        -2.83231364e-02,  2.92017712e-01, -2.79390639e-01,\n",
              "         2.82533716e-01, -5.48950124e-03,  2.87542893e-01,\n",
              "         2.80215551e-01, -2.71072295e-01, -2.89145249e-01,\n",
              "         2.82183022e-01, -2.72489630e-01, -2.58220006e-01],\n",
              "       [ 5.37698423e-01,  2.97515396e-03,  1.56648974e-01,\n",
              "        -2.86329545e-02,  1.50682974e-01,  3.08626227e-01,\n",
              "         1.58582061e-01, -1.29661897e-02,  2.37825096e-01,\n",
              "         1.84420510e-01,  3.69438669e-01, -2.72209548e-01,\n",
              "         2.60750720e-01, -2.99491906e-02,  4.14967887e-01],\n",
              "       [ 4.03110574e-03,  1.17729152e-01,  4.04094929e-01,\n",
              "         1.04924439e-01,  3.48898438e-01,  4.07412878e-02,\n",
              "        -3.70316483e-01,  8.04723762e-03, -1.10371506e-01,\n",
              "         4.03691217e-01, -1.50356813e-02,  1.09932027e-02,\n",
              "        -2.77580916e-01,  5.44370906e-01, -4.84404943e-02],\n",
              "       [-7.16209927e-01, -1.65264817e-01, -8.94169327e-03,\n",
              "         7.27137415e-02, -5.10687672e-03,  3.30670186e-01,\n",
              "         2.85273022e-01,  6.27601486e-03,  1.08841075e-01,\n",
              "        -9.00315246e-03,  1.77169723e-01, -7.97449108e-02,\n",
              "         1.89853628e-01,  3.58046727e-01,  2.22838608e-01],\n",
              "       [ 6.22641601e-02,  3.71424836e-02, -1.01717912e-01,\n",
              "         9.74577701e-01, -5.95341936e-02, -2.69326854e-02,\n",
              "         3.85266803e-02,  3.25519144e-02,  1.29275471e-01,\n",
              "         4.54315645e-02,  2.45287609e-02,  2.89735819e-02,\n",
              "        -2.02318476e-02, -7.59498005e-02, -3.72391719e-02],\n",
              "       [ 2.20639845e-01,  3.12110616e-01, -1.32949442e-01,\n",
              "        -3.79804784e-02, -1.02350018e-01,  2.17648106e-01,\n",
              "         1.92034480e-01,  8.97876240e-03,  1.78479700e-02,\n",
              "        -1.40207503e-01,  1.90597122e-01,  5.77262753e-02,\n",
              "         2.74676519e-01,  4.09609003e-01, -6.61150408e-01],\n",
              "       [ 2.47093733e-01, -6.59995752e-02, -9.66149589e-02,\n",
              "         3.22494421e-02, -5.85795842e-02, -1.28041553e-01,\n",
              "         1.73122400e-01, -1.07685761e-02,  5.35164311e-03,\n",
              "        -5.23656324e-02, -6.94608019e-01,  8.52561271e-02,\n",
              "         3.03012402e-01,  4.43676525e-01,  3.05148572e-01],\n",
              "       [-1.56298638e-02,  5.87502616e-01,  6.40671387e-02,\n",
              "        -1.96723728e-02,  2.43008596e-02, -1.44345125e-01,\n",
              "         4.85195860e-01,  2.83143249e-02, -1.90692127e-01,\n",
              "        -1.29295757e-02,  1.49613858e-01,  3.96608534e-01,\n",
              "        -2.72985367e-01,  1.03800158e-02,  3.18778859e-01],\n",
              "       [-2.96557380e-02,  3.53832138e-01, -1.83027367e-01,\n",
              "        -4.58662450e-02, -5.56837942e-02,  6.45986950e-01,\n",
              "        -7.17431369e-02,  4.82208493e-02,  2.12283387e-01,\n",
              "         5.99724302e-03, -4.19821262e-01, -1.80080568e-01,\n",
              "        -3.66444294e-01, -1.48088882e-01,  2.13922576e-02],\n",
              "       [-1.77217246e-02,  2.67096979e-02, -4.87057705e-01,\n",
              "        -1.54523325e-01, -1.18004274e-01, -2.99985142e-01,\n",
              "        -8.36081634e-02, -7.10569088e-02,  6.06053525e-01,\n",
              "         3.90107972e-01,  1.50749223e-01,  1.32123106e-01,\n",
              "        -1.65496605e-01,  1.82245710e-01,  4.05560152e-02],\n",
              "       [ 1.45279061e-02, -4.17239349e-02, -3.48287625e-02,\n",
              "        -3.95944729e-02,  1.22039109e-02, -6.28406286e-02,\n",
              "         4.67907448e-03,  9.93906052e-01,  3.18965234e-02,\n",
              "         1.16787141e-02,  2.11801980e-02, -3.16472124e-02,\n",
              "        -2.19952274e-03,  2.60056540e-02,  3.63526332e-03],\n",
              "       [-1.62456201e-01,  4.04355000e-01, -4.88950592e-02,\n",
              "         9.04685908e-03,  8.25687623e-03,  8.48888126e-02,\n",
              "        -5.59104012e-01,  3.96694348e-02,  1.39622700e-02,\n",
              "        -4.92917978e-03,  3.66761165e-02,  3.37228149e-01,\n",
              "         5.58748964e-01, -1.41139296e-01,  1.96924576e-01],\n",
              "       [ 9.00291946e-03, -1.47928705e-01, -4.11061011e-01,\n",
              "        -9.20905087e-03,  1.58960431e-01,  1.97125559e-01,\n",
              "         1.66991967e-01,  7.33293200e-03, -4.94843811e-01,\n",
              "         6.28896240e-01, -5.58873618e-02,  1.23934072e-01,\n",
              "         1.44437141e-01, -1.69576102e-01, -9.18205834e-02],\n",
              "       [ 4.89521695e-02, -2.73452912e-01,  4.67683472e-01,\n",
              "        -4.05891341e-02, -3.24111377e-01,  2.45175967e-01,\n",
              "         1.26608736e-01,  3.55100567e-02,  2.65337907e-01,\n",
              "         2.32181938e-01, -1.07707037e-01,  5.84186839e-01,\n",
              "         9.50138624e-03, -1.46840689e-01, -1.45469984e-01],\n",
              "       [-4.30341615e-02,  1.99921214e-01,  1.61139511e-01,\n",
              "        -9.86694604e-04, -7.77607472e-01, -1.13152481e-01,\n",
              "        -6.39817822e-02,  6.49653845e-03, -2.33036507e-01,\n",
              "         3.12974602e-01,  3.32931114e-02, -3.81923012e-01,\n",
              "         4.75535544e-02,  6.09596896e-02,  7.34149627e-02]])"
            ]
          },
          "metadata": {},
          "execution_count": 16
        }
      ],
      "source": [
        "eigenvectors"
      ],
      "id": "RxDr9v1AnvaN"
    },
    {
      "cell_type": "code",
      "execution_count": null,
      "metadata": {
        "colab": {
          "base_uri": "https://localhost:8080/"
        },
        "id": "PewofFQjnvaN",
        "outputId": "d205c618-4257-4464-9a7d-8a7261c5f7b0"
      },
      "outputs": [
        {
          "output_type": "execute_result",
          "data": {
            "text/plain": [
              "(15, 15)"
            ]
          },
          "metadata": {},
          "execution_count": 17
        }
      ],
      "source": [
        "eigenvectors.shape"
      ],
      "id": "PewofFQjnvaN"
    },
    {
      "cell_type": "code",
      "execution_count": null,
      "metadata": {
        "id": "O3X-e8RHnvaO"
      },
      "outputs": [],
      "source": [
        "def pca(X,eigenvalues,eigenvectors, n_components):\n",
        "\n",
        "    mean=np.array(np.mean(X.T, axis=1))\n",
        "    X_std = X - mean\n",
        "\n",
        "    # Sort the eigenvalues in descending order\n",
        "    eig_indices = np.argsort(eigenvalues)[::-1] # sort from descending\n",
        "    sorted_eigenvalues = eigenvalues[eig_indices]\n",
        "    sorted_eigenvectors = eigenvectors[:, eig_indices]\n",
        "\n",
        "    # Select the top 'n_components' eigenvectors\n",
        "    eigenvectors_subset = sorted_eigenvectors[:, :n_components]\n",
        "\n",
        "    # Project the data onto the selected eigenvectors\n",
        "    compressed_data  = np.dot(X_std, eigenvectors_subset)\n",
        "\n",
        "\n",
        "    reconstructed_data=np.dot(compressed_data, eigenvectors_subset.transpose())+mean\n",
        "\n",
        "    return compressed_data,reconstructed_data"
      ],
      "id": "O3X-e8RHnvaO"
    },
    {
      "cell_type": "markdown",
      "metadata": {
        "id": "qywheoIrnvaO"
      },
      "source": [
        "### Select Num_components -> 2"
      ],
      "id": "qywheoIrnvaO"
    },
    {
      "cell_type": "code",
      "execution_count": null,
      "metadata": {
        "colab": {
          "base_uri": "https://localhost:8080/"
        },
        "id": "EN_ujRlknvaP",
        "outputId": "51539f1b-96f7-4d65-9058-eef0084e6259"
      },
      "outputs": [
        {
          "output_type": "stream",
          "name": "stdout",
          "text": [
            "Shape of data : (100, 15)\n",
            "Afrer applying PCA : (100, 2)\n",
            "Reconstruction error : 0.18938119266984352\n"
          ]
        }
      ],
      "source": [
        "num_components=2\n",
        "compressed_data,reconstructed_data=pca(X,eigenvalues,eigenvectors,num_components)\n",
        "print(f\"Shape of data : {X.shape}\")\n",
        "print(f\"Afrer applying PCA : {compressed_data.shape}\")\n",
        "# Reconstruction error\n",
        "Reconstruction_error=np.mean(np.square(np.array(X) - reconstructed_data))\n",
        "print(f\"Reconstruction error : {Reconstruction_error}\")"
      ],
      "id": "EN_ujRlknvaP"
    },
    {
      "cell_type": "markdown",
      "metadata": {
        "id": "mPdj3xsRnvaP"
      },
      "source": [
        "### Select Num_components -> 3"
      ],
      "id": "mPdj3xsRnvaP"
    },
    {
      "cell_type": "code",
      "execution_count": null,
      "metadata": {
        "colab": {
          "base_uri": "https://localhost:8080/"
        },
        "id": "AaUhw3Z-nvaP",
        "outputId": "d9f75006-f364-4cdc-c755-108f8c53504b"
      },
      "outputs": [
        {
          "output_type": "stream",
          "name": "stdout",
          "text": [
            "Shape of data : (100, 15)\n",
            "Afrer applying PCA : (100, 3)\n",
            "Reconstruction error : 0.16270667540698192\n"
          ]
        }
      ],
      "source": [
        "num_components=3\n",
        "compressed_data,reconstructed_data=pca(X,eigenvalues,eigenvectors,num_components)\n",
        "print(f\"Shape of data : {X.shape}\")\n",
        "print(f\"Afrer applying PCA : {compressed_data.shape}\")\n",
        "# Reconstruction error\n",
        "Reconstruction_error=np.mean(np.square(np.array(X) - reconstructed_data))\n",
        "print(f\"Reconstruction error : {Reconstruction_error}\")"
      ],
      "id": "AaUhw3Z-nvaP"
    },
    {
      "cell_type": "markdown",
      "metadata": {
        "id": "1_SVriyVnvaQ"
      },
      "source": [
        "### Select Num_components -> 5"
      ],
      "id": "1_SVriyVnvaQ"
    },
    {
      "cell_type": "code",
      "execution_count": null,
      "metadata": {
        "colab": {
          "base_uri": "https://localhost:8080/"
        },
        "id": "uzBJxkLRnvaQ",
        "outputId": "e22ccbbd-fe16-4ace-b85c-df56f9aab16b"
      },
      "outputs": [
        {
          "output_type": "stream",
          "name": "stdout",
          "text": [
            "Shape of data : (100, 15)\n",
            "Afrer applying PCA : (100, 5)\n",
            "Reconstruction error : 0.12233787574833128\n"
          ]
        }
      ],
      "source": [
        "num_components=5\n",
        "compressed_data,reconstructed_data=pca(X,eigenvalues,eigenvectors,num_components)\n",
        "print(f\"Shape of data : {X.shape}\")\n",
        "print(f\"Afrer applying PCA : {compressed_data.shape}\")\n",
        "# Reconstruction error\n",
        "Reconstruction_error=np.mean(np.square(np.array(X) - reconstructed_data))\n",
        "print(f\"Reconstruction error : {Reconstruction_error}\")"
      ],
      "id": "uzBJxkLRnvaQ"
    },
    {
      "cell_type": "markdown",
      "metadata": {
        "id": "fMrA9SVpnvaQ"
      },
      "source": [
        "### Select Num_components -> 8"
      ],
      "id": "fMrA9SVpnvaQ"
    },
    {
      "cell_type": "code",
      "execution_count": null,
      "metadata": {
        "colab": {
          "base_uri": "https://localhost:8080/"
        },
        "id": "BtmRNXhKnvaQ",
        "outputId": "10611748-c120-4928-c848-6291f295ff97"
      },
      "outputs": [
        {
          "output_type": "stream",
          "name": "stdout",
          "text": [
            "Shape of data : (100, 15)\n",
            "Afrer applying PCA : (100, 8)\n",
            "Reconstruction error : 0.0960434916136997\n"
          ]
        }
      ],
      "source": [
        "num_components=8\n",
        "compressed_data,reconstructed_data=pca(X,eigenvalues,eigenvectors,num_components)\n",
        "print(f\"Shape of data : {X.shape}\")\n",
        "print(f\"Afrer applying PCA : {compressed_data.shape}\")\n",
        "# Reconstruction error\n",
        "Reconstruction_error=np.mean(np.square(np.array(X) - reconstructed_data))\n",
        "print(f\"Reconstruction error : {Reconstruction_error}\")"
      ],
      "id": "BtmRNXhKnvaQ"
    },
    {
      "cell_type": "markdown",
      "metadata": {
        "id": "7LMS9OnPnvaQ"
      },
      "source": [
        "### Notice Error decrease in larger Num_components....."
      ],
      "id": "7LMS9OnPnvaQ"
    },
    {
      "cell_type": "markdown",
      "metadata": {
        "id": "U69BCjobnvaQ"
      },
      "source": [
        "### Fuzzy_CMean Model :"
      ],
      "id": "U69BCjobnvaQ"
    },
    {
      "cell_type": "code",
      "execution_count": null,
      "metadata": {
        "id": "TZr03ldlnvaR"
      },
      "outputs": [],
      "source": [
        "k=2\n",
        "g=2\n",
        "\n",
        "# initialize membership matrix and normalize to make sum=1 in each row.\n",
        "matrix=np.random.rand(X.shape[0],k)\n",
        "matrix/=np.sum(matrix, axis=1)[:,np.newaxis]"
      ],
      "id": "TZr03ldlnvaR"
    },
    {
      "cell_type": "code",
      "execution_count": null,
      "metadata": {
        "colab": {
          "base_uri": "https://localhost:8080/"
        },
        "id": "NdWKS5pKnvaR",
        "outputId": "710d584f-19d3-4fdd-bf37-d52aabd81cd1"
      },
      "outputs": [
        {
          "output_type": "execute_result",
          "data": {
            "text/plain": [
              "(100, 2)"
            ]
          },
          "metadata": {},
          "execution_count": 24
        }
      ],
      "source": [
        "matrix.shape"
      ],
      "id": "NdWKS5pKnvaR"
    },
    {
      "cell_type": "code",
      "execution_count": null,
      "metadata": {
        "id": "jn5Ho0U2nvaR"
      },
      "outputs": [],
      "source": [
        "# CCjk =(∑i=1:N Mij^g * xik) / ∑i=1:N Mij^g\n",
        "# c12 -> 1 for matrix, 2 for data\n",
        "def compute_centroids(X,k,matrix,g):\n",
        "    centroids=np.zeros((k,X.shape[1])) # 2*15\n",
        "    for i in range (k):\n",
        "        centroids[i,:]= np.sum((matrix[:,i]**g)[:,np.newaxis]*X,axis=0) / np.sum((matrix[:,i]**g))\n",
        "    return centroids"
      ],
      "id": "jn5Ho0U2nvaR"
    },
    {
      "cell_type": "code",
      "execution_count": null,
      "metadata": {
        "id": "caozkHMhnvaR"
      },
      "outputs": [],
      "source": [
        "def update_membership_matrix(X,centroids,k,g):\n",
        "    distance=np.zeros((X.shape[0],k)) # 100*2\n",
        "    for i in range (k):\n",
        "        distance[:,i]=np.linalg.norm(X-centroids[i,:],axis=1)\n",
        "    U_new=1/ (distance ** (2/(g-1)) * np.sum((1/distance) ** (2/(g-1)) , axis=1 )[:,np.newaxis] )\n",
        "    return U_new"
      ],
      "id": "caozkHMhnvaR"
    },
    {
      "cell_type": "code",
      "execution_count": null,
      "metadata": {
        "id": "LR0s2EDLnvaS"
      },
      "outputs": [],
      "source": [
        "def compute_labels(X,k,matrix,g,max_iteration):\n",
        "    for iteration in range (max_iteration):\n",
        "        Centroids=compute_centroids(X, k, matrix , g)\n",
        "        U_new= update_membership_matrix (X,Centroids, k , g )\n",
        "\n",
        "        # if no update in matrix\n",
        "        if np.linalg.norm (U_new- matrix)<=0.00001:\n",
        "            break\n",
        "        matrix=U_new\n",
        "\n",
        "    labels=np.argmax(U_new, axis=1)\n",
        "    return labels"
      ],
      "id": "LR0s2EDLnvaS"
    },
    {
      "cell_type": "code",
      "execution_count": null,
      "metadata": {
        "colab": {
          "base_uri": "https://localhost:8080/"
        },
        "id": "LH0mopEenvaS",
        "outputId": "ffffc3e1-7654-4e84-f269-841e80853566"
      },
      "outputs": [
        {
          "output_type": "execute_result",
          "data": {
            "text/plain": [
              "array([0, 0, 1, 0, 1, 1, 0, 1, 0, 1, 1, 0, 1, 0, 1, 1, 1, 0, 0, 0, 0, 1,\n",
              "       0, 0, 0, 0, 0, 0, 1, 1, 0, 0, 1, 0, 0, 1, 0, 1, 0, 0, 0, 1, 0, 0,\n",
              "       1, 0, 0, 0, 0, 1, 1, 0, 1, 0, 1, 0, 0, 1, 0, 1, 0, 1, 1, 1, 0, 0,\n",
              "       1, 1, 1, 0, 0, 1, 0, 1, 1, 0, 0, 0, 0, 1, 0, 1, 1, 0, 0, 1, 0, 1,\n",
              "       0, 1, 0, 0, 0, 1, 0, 1, 1, 1, 0, 1])"
            ]
          },
          "metadata": {},
          "execution_count": 28
        }
      ],
      "source": [
        "labels=compute_labels(X,k,matrix,g,1000)\n",
        "labels"
      ],
      "id": "LH0mopEenvaS"
    },
    {
      "cell_type": "code",
      "execution_count": null,
      "metadata": {
        "scrolled": true,
        "colab": {
          "base_uri": "https://localhost:8080/"
        },
        "id": "79CorghAnvaT",
        "outputId": "71a9e71c-4f46-439f-e893-d1070edd8c42"
      },
      "outputs": [
        {
          "output_type": "stream",
          "name": "stdout",
          "text": [
            "Adjusted Rand Index: 0.844845420066659\n"
          ]
        }
      ],
      "source": [
        "from sklearn.metrics import adjusted_rand_score\n",
        "\n",
        "# Compute the adjusted Rand index\n",
        "ari = float(adjusted_rand_score(y, labels))\n",
        "\n",
        "# Print the result\n",
        "print(f\"Adjusted Rand Index: {ari}\")\n"
      ],
      "id": "79CorghAnvaT"
    },
    {
      "cell_type": "markdown",
      "metadata": {
        "id": "1RyMAxT9nvaT"
      },
      "source": [
        "#### using all the features and without applying PCA , the ARI is 0.84"
      ],
      "id": "1RyMAxT9nvaT"
    },
    {
      "cell_type": "markdown",
      "metadata": {
        "id": "RPdsKf8AnvaT"
      },
      "source": [
        "### Apply PCA"
      ],
      "id": "RPdsKf8AnvaT"
    },
    {
      "cell_type": "code",
      "execution_count": null,
      "metadata": {
        "colab": {
          "base_uri": "https://localhost:8080/"
        },
        "id": "ynueu7yGnvaT",
        "outputId": "615e1427-3699-4576-e9f6-36b227bffc9e"
      },
      "outputs": [
        {
          "output_type": "execute_result",
          "data": {
            "text/plain": [
              "(100, 3)"
            ]
          },
          "metadata": {},
          "execution_count": 43
        }
      ],
      "source": [
        "num_components=3\n",
        "compressed_data,reconstructed_data=pca(X,eigenvalues,eigenvectors,num_components)\n",
        "compressed_data.shape"
      ],
      "id": "ynueu7yGnvaT"
    },
    {
      "cell_type": "code",
      "execution_count": null,
      "metadata": {
        "id": "DODblgd_nvaU"
      },
      "outputs": [],
      "source": [
        "labels3=compute_labels(compressed_data,k,matrix,g,1000)"
      ],
      "id": "DODblgd_nvaU"
    },
    {
      "cell_type": "code",
      "execution_count": null,
      "metadata": {
        "colab": {
          "base_uri": "https://localhost:8080/"
        },
        "id": "LqRnf4TSnvaU",
        "outputId": "9a2818e9-0a01-4ce0-9406-6d8391b1f4e4"
      },
      "outputs": [
        {
          "output_type": "execute_result",
          "data": {
            "text/plain": [
              "array([0, 1, 1, 0, 1, 1, 0, 1, 0, 1, 1, 0, 1, 0, 1, 1, 1, 0, 0, 0, 1, 1,\n",
              "       0, 0, 0, 0, 0, 0, 1, 1, 0, 0, 1, 0, 0, 1, 0, 1, 0, 0, 0, 1, 0, 0,\n",
              "       1, 0, 0, 0, 0, 1, 1, 0, 1, 0, 1, 0, 0, 1, 0, 1, 0, 1, 1, 1, 0, 0,\n",
              "       1, 1, 1, 0, 0, 1, 0, 1, 0, 0, 0, 0, 0, 1, 0, 1, 1, 0, 0, 1, 0, 1,\n",
              "       0, 1, 0, 0, 0, 1, 0, 1, 1, 1, 0, 1])"
            ]
          },
          "metadata": {},
          "execution_count": 45
        }
      ],
      "source": [
        "labels3"
      ],
      "id": "LqRnf4TSnvaU"
    },
    {
      "cell_type": "code",
      "execution_count": null,
      "metadata": {
        "colab": {
          "base_uri": "https://localhost:8080/"
        },
        "id": "HG6lPlZcnvag",
        "outputId": "8c471c4f-d014-4d37-a5e1-af2b22c2bda0"
      },
      "outputs": [
        {
          "output_type": "execute_result",
          "data": {
            "text/plain": [
              "array([1, 1, 0, 1, 0, 0, 1, 0, 1, 0, 0, 1, 0, 1, 0, 0, 0, 1, 1, 1, 1, 0,\n",
              "       1, 1, 1, 1, 1, 1, 0, 0, 1, 1, 0, 1, 1, 0, 1, 0, 1, 1, 1, 0, 0, 1,\n",
              "       0, 1, 1, 1, 1, 0, 1, 1, 0, 1, 0, 1, 0, 0, 1, 0, 1, 0, 0, 0, 1, 1,\n",
              "       0, 0, 0, 1, 1, 0, 1, 0, 0, 1, 1, 1, 1, 1, 1, 0, 0, 1, 1, 0, 1, 0,\n",
              "       1, 0, 1, 1, 1, 0, 1, 0, 0, 0, 1, 0])"
            ]
          },
          "metadata": {},
          "execution_count": 46
        }
      ],
      "source": [
        "y=np.array(y)\n",
        "y"
      ],
      "id": "HG6lPlZcnvag"
    },
    {
      "cell_type": "code",
      "execution_count": null,
      "metadata": {
        "colab": {
          "base_uri": "https://localhost:8080/"
        },
        "id": "oAotOf1Mnvah",
        "outputId": "7009a703-05bd-4050-bf9c-1ed79a176121"
      },
      "outputs": [
        {
          "output_type": "execute_result",
          "data": {
            "text/plain": [
              "(100, 3)"
            ]
          },
          "metadata": {},
          "execution_count": 47
        }
      ],
      "source": [
        "compressed_data.shape"
      ],
      "id": "oAotOf1Mnvah"
    },
    {
      "cell_type": "markdown",
      "metadata": {
        "id": "3EyoUeKUnvah"
      },
      "source": [
        "#### using only 3 features of the data by applying PCA we were able to retain most of the data and also compress the data ,achieving 0.73 ARI, we saved alot of memory"
      ],
      "id": "3EyoUeKUnvah"
    },
    {
      "cell_type": "code",
      "source": [
        "ari = float(adjusted_rand_score(y, labels3))\n",
        "\n",
        "# Print the result\n",
        "print(f\"Adjusted Rand Index: {ari}\")\n"
      ],
      "metadata": {
        "colab": {
          "base_uri": "https://localhost:8080/"
        },
        "id": "p2Cs3pAppCxF",
        "outputId": "ae0e0595-68e6-48a1-9171-9252f12332fb"
      },
      "id": "p2Cs3pAppCxF",
      "execution_count": null,
      "outputs": [
        {
          "output_type": "stream",
          "name": "stdout",
          "text": [
            "Adjusted Rand Index: 0.7369696969696969\n"
          ]
        }
      ]
    },
    {
      "cell_type": "code",
      "execution_count": null,
      "metadata": {
        "colab": {
          "base_uri": "https://localhost:8080/",
          "height": 434
        },
        "id": "jhyhoJCnnvah",
        "outputId": "bdcf35e0-da8d-4fc3-f88e-e5bf2d3f5bff"
      },
      "outputs": [
        {
          "output_type": "display_data",
          "data": {
            "text/plain": [
              "<Figure size 640x480 with 1 Axes>"
            ],
            "image/png": "[encoded data removed]"
          },
          "metadata": {}
        }
      ],
      "source": [
        "fig = plt.figure()\n",
        "ax = fig.add_subplot(111, projection='3d')\n",
        "ax.scatter(compressed_data[:, 0], compressed_data[:, 1], compressed_data[:, 2])\n",
        "\n",
        "ax.set_xlabel('PC1')\n",
        "ax.set_ylabel('PC2')\n",
        "ax.set_zlabel('PC3')\n",
        "ax.set_title('Data Visualization after PCA')\n",
        "\n",
        "plt.show()"
      ],
      "id": "jhyhoJCnnvah"
    },
    {
      "cell_type": "markdown",
      "metadata": {
        "id": "Icca-bO8nvai"
      },
      "source": [
        "#### Dimensionality Reduction of the PCA helps us to visulaize the data and improve Interpretability and also compresses the data.\n",
        "#### Dataset shape was (100,15) then it was reduced to (100,3) Also the labels were approximately the same as the original data."
      ],
      "id": "Icca-bO8nvai"
    }
  ],
  "metadata": {
    "kernelspec": {
      "display_name": "Python 3",
      "language": "python",
      "name": "python3"
    },
    "language_info": {
      "codemirror_mode": {
        "name": "ipython",
        "version": 3
      },
      "file_extension": ".py",
      "mimetype": "text/x-python",
      "name": "python",
      "nbconvert_exporter": "python",
      "pygments_lexer": "ipython3",
      "version": "3.8.5"
    },
    "colab": {
      "provenance": []
    }
  },
  "nbformat": 4,
  "nbformat_minor": 5
}